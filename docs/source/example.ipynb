{
 "cells": [
  {
   "cell_type": "markdown",
   "metadata": {},
   "source": [
    "# Example Usage\n",
    "This example shows how DensityX can be used to calculate the density of multiple glass compositions.\n"
   ]
  },
  {
   "cell_type": "code",
   "execution_count": null,
   "metadata": {
    "vscode": {
     "languageId": "plaintext"
    }
   },
   "outputs": [],
   "source": [
    "import pandas as pd\n",
    "import matplotlib.pyplot as plt\n",
    "import densityx"
   ]
  },
  {
   "cell_type": "code",
   "execution_count": null,
   "metadata": {
    "vscode": {
     "languageId": "plaintext"
    }
   },
   "outputs": [],
   "source": [
    "# Load in Test Dataset\n",
    "test_data = pd.read_excel(\"../tests/test-data.xlsx\", header=0)\n",
    "\n",
    "test_data.head()"
   ]
  },
  {
   "cell_type": "code",
   "execution_count": null,
   "metadata": {
    "vscode": {
     "languageId": "plaintext"
    }
   },
   "outputs": [],
   "source": [
    "# Calculate Density\n",
    "test_densities = densityx.density(test_data, verbose=True)\n",
    "\n",
    "test_densities.head()"
   ]
  },
  {
   "cell_type": "code",
   "execution_count": null,
   "metadata": {
    "vscode": {
     "languageId": "plaintext"
    }
   },
   "outputs": [],
   "source": [
    "# Plot SiO2 against Density\n",
    "fs = 12\n",
    "\n",
    "plt.figure(constrained_layout=True)\n",
    "\n",
    "plt.plot(test_densities[\"SiO2\"], test_densities[density_g_per_cm3], 'k.')\n",
    "\n",
    "plt.xlim(35, 85)\n",
    "plt.ylim(1.8, 3.2)\n",
    "\n",
    "plt.xlabel(\"SiO2$_2$ (wt.%), fontsize=fs)\n",
    "plt.ylabel(\"Density (g/cm$^3$), fontsize=fs)\n",
    "\n",
    "plt.show()"
   ]
  }
 ],
 "metadata": {
  "language_info": {
   "name": "python"
  }
 },
 "nbformat": 4,
 "nbformat_minor": 2
}
